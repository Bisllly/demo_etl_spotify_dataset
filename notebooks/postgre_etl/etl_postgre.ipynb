{
 "cells": [
  {
   "cell_type": "code",
   "execution_count": 1,
   "metadata": {},
   "outputs": [],
   "source": [
    "import pandas as pd\n",
    "import os\n",
    "import io\n",
    "import sys\n",
    "import threading\n",
    "\n",
    "src_dir = '../src'\n",
    "if src_dir not in sys.path:\n",
    "  sys.path.append(src_dir)\n",
    "from postgres_functions import *\n",
    "\n",
    "\n",
    "from dotenv import load_dotenv\n",
    "load_dotenv()\n",
    "import psycopg2\n",
    "import pyarrow.parquet as pq\n",
    "from parallel_process_functions import *\n",
    "from sql_queries import *\n",
    "from pyspark.sql import SparkSession"
   ]
  },
  {
   "cell_type": "code",
   "execution_count": 2,
   "metadata": {},
   "outputs": [],
   "source": [
    "cur, conn = create_database()\n",
    "drop_tables(cur, conn)\n",
    "create_tables(cur, conn)\n",
    "conn.close()"
   ]
  },
  {
   "cell_type": "code",
   "execution_count": 3,
   "metadata": {},
   "outputs": [],
   "source": [
    "spark = SparkSession.builder \\\n",
    "  .appName(\"EtlPostgres\") \\\n",
    "  .config(\"spark.jars\", os.getcwd() + \"/postgresql-42.7.1.jar\") \\\n",
    "  .config(\"spark.driver.memory\", \"4g\") \\\n",
    "  .config(\"spark.executor.memory\", \"4g\") \\\n",
    "  .getOrCreate()"
   ]
  },
  {
   "cell_type": "code",
   "execution_count": 4,
   "metadata": {},
   "outputs": [],
   "source": [
    "# parquet_path = os.path.join(os.getcwd(), 'tracks_data.parquet')\n",
    "# df = read_parquet_to_df(parquet_path)\n",
    "# df.head()\n",
    "# insert_execute(df, insert_artists, conn, cur)\n",
    "# insert_execute(df, insert_albums, conn, cur)\n",
    "# insert_execute(df, insert_tracks, conn, cur)\n",
    "# insert_execute(df, insert_playlists, conn, cur)\n",
    "# insert_execute(df, insert_playlist_tracks, conn, cur)"
   ]
  },
  {
   "cell_type": "code",
   "execution_count": 5,
   "metadata": {},
   "outputs": [
    {
     "name": "stdout",
     "output_type": "stream",
     "text": [
      "+---+-----------------+--------------------+--------------------+--------------------+--------------------+-----------+--------------------+------------+-------------+--------------------+\n",
      "|pos|      artist_name|           track_uri|          artist_uri|          track_name|           album_uri|duration_ms|          album_name|playlist_pid|playlist_name|playlist_description|\n",
      "+---+-----------------+--------------------+--------------------+--------------------+--------------------+-----------+--------------------+------------+-------------+--------------------+\n",
      "|  0|    Missy Elliott|spotify:track:0Ua...|spotify:artist:2w...|Lose Control feat...|spotify:album:6vV...|     226863|        The Cookbook|           0|   Throwbacks|                NULL|\n",
      "|  1|   Britney Spears|spotify:track:6I9...|spotify:artist:26...|               Toxic|spotify:album:0z7...|     198800|         In The Zone|           0|   Throwbacks|                NULL|\n",
      "|  2|           Beyonc|spotify:track:0Wq...|spotify:artist:6v...|       Crazy In Love|spotify:album:25h...|     235933|Dangerously In Lo...|           0|   Throwbacks|                NULL|\n",
      "|  3|Justin Timberlake|spotify:track:1AW...|spotify:artist:31...|      Rock Your Body|spotify:album:6QP...|     267266|           Justified|           0|   Throwbacks|                NULL|\n",
      "|  4|           Shaggy|spotify:track:1lz...|spotify:artist:5E...|        It Wasn't Me|spotify:album:6Nm...|     227600|            Hot Shot|           0|   Throwbacks|                NULL|\n",
      "+---+-----------------+--------------------+--------------------+--------------------+--------------------+-----------+--------------------+------------+-------------+--------------------+\n",
      "only showing top 5 rows\n",
      "\n"
     ]
    }
   ],
   "source": [
    "parquet_path = os.path.join(os.getcwd(), 'tracks_data.parquet')\n",
    "spark_df = read_parquet_to_spark_df(spark, parquet_path)\n",
    "spark_df.show(5)"
   ]
  },
  {
   "cell_type": "code",
   "execution_count": 6,
   "metadata": {},
   "outputs": [],
   "source": [
    "jdbc_url = \"jdbc:postgresql://127.0.0.1:5432/music_dwh\"\n",
    "properties = {\"user\": os.getenv('DWH_USER'), \"password\": os.getenv('DWH_PWD')}\n",
    "\n",
    "artists_spark_df = spark_df.select('artist_uri', 'artist_name').dropDuplicates(['artist_uri'])\n",
    "albums_spark_df = spark_df.select('album_uri', 'album_name').dropDuplicates(['album_uri'])\n",
    "tracks_spark_df = spark_df.select('track_uri', 'track_name', 'artist_uri', 'album_uri', 'duration_ms').dropDuplicates(['track_uri'])\n",
    "playlists_spark_df = spark_df.select('playlist_pid', 'playlist_name', 'playlist_description').dropDuplicates(['playlist_pid'])\n",
    "playlist_tracks_spark_df = spark_df.select('playlist_pid', 'track_uri', 'pos').dropDuplicates()"
   ]
  },
  {
   "cell_type": "code",
   "execution_count": 7,
   "metadata": {},
   "outputs": [],
   "source": [
    "write_to_db(artists_spark_df, 'artists', jdbc_url, properties)"
   ]
  },
  {
   "cell_type": "code",
   "execution_count": 8,
   "metadata": {},
   "outputs": [],
   "source": [
    "write_to_db(albums_spark_df, 'albums', jdbc_url, properties)"
   ]
  },
  {
   "cell_type": "code",
   "execution_count": 9,
   "metadata": {},
   "outputs": [],
   "source": [
    "write_to_db(tracks_spark_df, 'tracks', jdbc_url, properties)"
   ]
  },
  {
   "cell_type": "code",
   "execution_count": 10,
   "metadata": {},
   "outputs": [],
   "source": [
    "write_to_db(playlists_spark_df, 'playlists', jdbc_url, properties)"
   ]
  },
  {
   "cell_type": "code",
   "execution_count": 11,
   "metadata": {},
   "outputs": [],
   "source": [
    "write_to_db(playlist_tracks_spark_df, 'playlist_tracks', jdbc_url, properties)"
   ]
  }
 ],
 "metadata": {
  "kernelspec": {
   "display_name": "venv",
   "language": "python",
   "name": "python3"
  },
  "language_info": {
   "codemirror_mode": {
    "name": "ipython",
    "version": 3
   },
   "file_extension": ".py",
   "mimetype": "text/x-python",
   "name": "python",
   "nbconvert_exporter": "python",
   "pygments_lexer": "ipython3",
   "version": "3.11.4"
  }
 },
 "nbformat": 4,
 "nbformat_minor": 2
}
