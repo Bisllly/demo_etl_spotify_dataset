{
 "cells": [
  {
   "cell_type": "code",
   "execution_count": 1,
   "metadata": {},
   "outputs": [],
   "source": [
    "import pandas as pd\n",
    "import pyarrow.parquet as pq"
   ]
  },
  {
   "cell_type": "code",
   "execution_count": 2,
   "metadata": {},
   "outputs": [
    {
     "name": "stdout",
     "output_type": "stream",
     "text": [
      "   pos        artist_name                             track_uri  \\\n",
      "0    0      Missy Elliott  spotify:track:0UaMYEvWZi0ZqiDOoHU3YI   \n",
      "1    1     Britney Spears  spotify:track:6I9VzXrHxO9rA9A5euc8Ak   \n",
      "2    2            Beyoncé  spotify:track:0WqIKmW4BTrj3eJFmnCKMv   \n",
      "3    3  Justin Timberlake  spotify:track:1AWQoqb9bSvzTjaLralEkT   \n",
      "4    4             Shaggy  spotify:track:1lzr43nnXAijIGYnCT8M8H   \n",
      "\n",
      "                              artist_uri  \\\n",
      "0  spotify:artist:2wIVse2owClT7go1WT98tk   \n",
      "1  spotify:artist:26dSoYclwsYLMAKD3tpOr4   \n",
      "2  spotify:artist:6vWDO969PvNqNYHIOW5v0m   \n",
      "3  spotify:artist:31TPClRtHm23RisEBtV3X7   \n",
      "4  spotify:artist:5EvFsr3kj42KNv97ZEnqij   \n",
      "\n",
      "                                   track_name  \\\n",
      "0  Lose Control (feat. Ciara & Fat Man Scoop)   \n",
      "1                                       Toxic   \n",
      "2                               Crazy In Love   \n",
      "3                              Rock Your Body   \n",
      "4                                It Wasn't Me   \n",
      "\n",
      "                              album_uri  duration_ms  \\\n",
      "0  spotify:album:6vV5UrXcfyQD1wu4Qo2I9K       226863   \n",
      "1  spotify:album:0z7pVBGOD7HCIB7S8eLkLI       198800   \n",
      "2  spotify:album:25hVFAxTlDvXbx2X2QkUkE       235933   \n",
      "3  spotify:album:6QPkyl04rXwTGlGlcYaRoW       267266   \n",
      "4  spotify:album:6NmFmPX56pcLBOFMhIiKvF       227600   \n",
      "\n",
      "                                     album_name  playlist_pid playlist_name  \\\n",
      "0                                  The Cookbook             0    Throwbacks   \n",
      "1                                   In The Zone             0    Throwbacks   \n",
      "2  Dangerously In Love (Alben für die Ewigkeit)             0    Throwbacks   \n",
      "3                                     Justified             0    Throwbacks   \n",
      "4                                      Hot Shot             0    Throwbacks   \n",
      "\n",
      "  playlist_description  \n",
      "0                 None  \n",
      "1                 None  \n",
      "2                 None  \n",
      "3                 None  \n",
      "4                 None  \n"
     ]
    }
   ],
   "source": [
    "# parquet_file = pq.ParquetFile('tracks_data.parquet')\n",
    "# first_rows = parquet_file.read_row_group(0, columns=None, use_threads=True).to_pandas().head(5)\n",
    "# print(first_rows)"
   ]
  }
 ],
 "metadata": {
  "kernelspec": {
   "display_name": "venv",
   "language": "python",
   "name": "python3"
  },
  "language_info": {
   "codemirror_mode": {
    "name": "ipython",
    "version": 3
   },
   "file_extension": ".py",
   "mimetype": "text/x-python",
   "name": "python",
   "nbconvert_exporter": "python",
   "pygments_lexer": "ipython3",
   "version": "3.11.4"
  }
 },
 "nbformat": 4,
 "nbformat_minor": 2
}
